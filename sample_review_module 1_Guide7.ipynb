{
 "cells": [
  {
   "cell_type": "markdown",
   "metadata": {},
   "source": [
    "# Sample review module"
   ]
  },
  {
   "cell_type": "markdown",
   "metadata": {},
   "source": [
    "## Exercsie 1\n",
    "\n",
    "Write code that adds two numbers together. "
   ]
  },
  {
   "cell_type": "code",
   "execution_count": 5,
   "metadata": {},
   "outputs": [],
   "source": [
    "def add_these_numbers(a,b):\n",
    "    \"\"\"Adds `a` and `b` and returns the\n",
    "    sum as the `result` variable\n",
    "    \n",
    "    Arguments:\n",
    "    `a`: An integer or a float\n",
    "    `b`: An integer or a float\n",
    "    \n",
    "    Output:\n",
    "    `result`: An integer or a float\n",
    "    \n",
    "    Example:\n",
    "    If you call add_these_numbers(5,6),\n",
    "    the output should be 11    \n",
    "    \"\"\"\n",
    "    # YOUR CODE HERE\n",
    "    result = a + b\n",
    "        \n",
    "    return result"
   ]
  },
  {
   "cell_type": "markdown",
   "metadata": {},
   "source": [
    "## Exercise 2\n",
    "\n",
    "What is your favorite color?\n",
    "\n",
    "* A. Blue\n",
    "* B. Green\n",
    "* C. Purple\n",
    "* D. Yellow"
   ]
  },
  {
   "cell_type": "code",
   "execution_count": 10,
   "metadata": {},
   "outputs": [],
   "source": [
    "def ex_2():\n",
    "    \"\"\"\n",
    "    Assign a letter to the variable `answer`,\n",
    "    and then return it.\n",
    "    \"\"\"\n",
    "    \n",
    "    # YOUR CODE HERE\n",
    "    \n",
    "    #answer = \"A\"\n",
    "    #answer = \"B\"\n",
    "    #answer = \"C\"\n",
    "    answer = \"D\"\n",
    "    \n",
    "    return answer"
   ]
  },
  {
   "cell_type": "markdown",
   "metadata": {},
   "source": [
    "## Testing Cells\n",
    "\n",
    "Run the below cells to check your answers. Make sure you run your solution cells first before running the cells below, otherwise you will get a `NameError` when checking your answers."
   ]
  },
  {
   "cell_type": "code",
   "execution_count": 6,
   "metadata": {},
   "outputs": [
    {
     "name": "stdout",
     "output_type": "stream",
     "text": [
      "Exercise 1 seems correct!\n"
     ]
    }
   ],
   "source": [
    "# Ex. 1\n",
    "assert add_these_numbers(2,3) == 5, \"Ex. 1 - Not quite, did you add the numbers or do something else? Check case 0.2 for a refresher!\"\n",
    "print(\"Exercise 1 seems correct!\")"
   ]
  },
  {
   "cell_type": "code",
   "execution_count": 11,
   "metadata": {},
   "outputs": [
    {
     "name": "stdout",
     "output_type": "stream",
     "text": [
      "Right, off you go\n"
     ]
    }
   ],
   "source": [
    "# Ex. 2\n",
    "assert ex_2() == \"D\", \"Ex. 2 - You are flung into the abyss\"\n",
    "print(\"Right, off you go\")"
   ]
  }
 ],
 "metadata": {
  "kernelspec": {
   "display_name": "Python 3",
   "language": "python",
   "name": "python3"
  },
  "language_info": {
   "codemirror_mode": {
    "name": "ipython",
    "version": 3
   },
   "file_extension": ".py",
   "mimetype": "text/x-python",
   "name": "python",
   "nbconvert_exporter": "python",
   "pygments_lexer": "ipython3",
   "version": "3.8.8"
  }
 },
 "nbformat": 4,
 "nbformat_minor": 2
}
