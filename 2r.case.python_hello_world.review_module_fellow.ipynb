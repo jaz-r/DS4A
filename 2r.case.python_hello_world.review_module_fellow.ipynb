{
 "cells": [
  {
   "cell_type": "markdown",
   "metadata": {
    "deletable": false,
    "editable": false,
    "nbgrader": {
     "cell_type": "markdown",
     "checksum": "9b3bfaa2020d9bbb227c30145fa91332",
     "grade": false,
     "grade_id": "cell-bcc39ccd2dbfe132",
     "locked": true,
     "schema_version": 3,
     "solution": false,
     "task": false
    }
   },
   "source": [
    "# Review module\n",
    "\n",
    "Throughout this foundational pre-program, you will complete several auto-graded review modules designed to test your understanding of the previous cases.\n",
    "\n",
    "**Instructions**\n",
    "\n",
    "The exercises will require you to write simple snippets of code. In order to complete this part, we recommend you follow these instructions:\n",
    "\n",
    "1. Complete the code provided to you in this notebook, but do **not** change the name of the variables. If you do that, the autograder will fail and you will not receive any points.\n",
    "2. To check that your answers are correct, click on `Kernel > Restart & Run All`. If any of the cells in your notebook produces an error, that means you need to adjust your answers.\n",
    "\n",
    "In the questions below, you'll see a couple of lines that look like this:\n",
    "\n",
    "~~~python\n",
    "# YOUR CODE HERE\n",
    "raise NotImplementedError() # Remove this line when you enter your solution\n",
    "~~~\n",
    "\n",
    "These lines are there to help us keep track of which exercises have been answered and which haven't. For the exercises in this review module, you should simply remove them and proceed to answering the exercises just as we explained above.\n",
    "\n",
    "Here are a couple of already-solved example questions:"
   ]
  },
  {
   "cell_type": "markdown",
   "metadata": {
    "deletable": false,
    "editable": false,
    "nbgrader": {
     "cell_type": "markdown",
     "checksum": "ddf3b37d2804ef454024186f1cfc97a8",
     "grade": false,
     "grade_id": "cell-ca9118682ef4b41d",
     "locked": true,
     "schema_version": 3,
     "solution": false,
     "task": false
    }
   },
   "source": [
    "### Example 1\n",
    "\n",
    "Write code that takes a numerical value, multiplies it by itself, and then outputs the result as the `result` variable."
   ]
  },
  {
   "cell_type": "code",
   "execution_count": null,
   "metadata": {
    "deletable": false,
    "editable": false,
    "nbgrader": {
     "cell_type": "code",
     "checksum": "ab48f0939db882889d91af341a54c361",
     "grade": false,
     "grade_id": "cell-f3ca26fde02c0ad5",
     "locked": true,
     "schema_version": 3,
     "solution": false,
     "task": false
    }
   },
   "outputs": [],
   "source": [
    "input_integer = 6\n",
    "result = input_integer * input_integer"
   ]
  },
  {
   "cell_type": "markdown",
   "metadata": {
    "deletable": false,
    "editable": false,
    "nbgrader": {
     "cell_type": "markdown",
     "checksum": "bd17bef3c0ea7bdcdea919091dc8833c",
     "grade": false,
     "grade_id": "cell-486ecc6a9690fe63",
     "locked": true,
     "schema_version": 3,
     "solution": false,
     "task": false
    }
   },
   "source": [
    "You can check that your variable was assigned by calling it like this:"
   ]
  },
  {
   "cell_type": "code",
   "execution_count": null,
   "metadata": {
    "deletable": false,
    "editable": false,
    "nbgrader": {
     "cell_type": "code",
     "checksum": "748eb104b7a92363ac6a0d54db9e7040",
     "grade": false,
     "grade_id": "cell-ce0ac0796faf81ec",
     "locked": true,
     "schema_version": 3,
     "solution": false,
     "task": false
    }
   },
   "outputs": [],
   "source": [
    "result"
   ]
  },
  {
   "cell_type": "markdown",
   "metadata": {
    "deletable": false,
    "editable": false,
    "nbgrader": {
     "cell_type": "markdown",
     "checksum": "7738ac6230a60ae393729affd08d6d4b",
     "grade": false,
     "grade_id": "cell-c115c6f41789d515",
     "locked": true,
     "schema_version": 3,
     "solution": false,
     "task": false
    }
   },
   "source": [
    "### Example 2\n",
    "\n",
    "Write code that takes any integer value, adds it to its own value divided by 10, and outputs the result as the `result` variable."
   ]
  },
  {
   "cell_type": "code",
   "execution_count": null,
   "metadata": {
    "deletable": false,
    "editable": false,
    "nbgrader": {
     "cell_type": "code",
     "checksum": "9263ddcae53d3279a917dde531ddcb00",
     "grade": false,
     "grade_id": "cell-42e5c52ee61ab873",
     "locked": true,
     "schema_version": 3,
     "solution": false,
     "task": false
    }
   },
   "outputs": [],
   "source": [
    "input_number = 30\n",
    "result = input_number + (input_number/10)"
   ]
  },
  {
   "cell_type": "markdown",
   "metadata": {
    "deletable": false,
    "editable": false,
    "nbgrader": {
     "cell_type": "markdown",
     "checksum": "a092eb75b8fce36ec1e5eb63714b29cf",
     "grade": false,
     "grade_id": "cell-5e27520e693549f6",
     "locked": true,
     "schema_version": 3,
     "solution": false,
     "task": false
    }
   },
   "source": [
    "And checking:"
   ]
  },
  {
   "cell_type": "code",
   "execution_count": null,
   "metadata": {
    "deletable": false,
    "editable": false,
    "nbgrader": {
     "cell_type": "code",
     "checksum": "e9c5820503b147d02c824cb50319b153",
     "grade": false,
     "grade_id": "cell-47d74e48784f6004",
     "locked": true,
     "schema_version": 3,
     "solution": false,
     "task": false
    }
   },
   "outputs": [],
   "source": [
    "result"
   ]
  },
  {
   "cell_type": "markdown",
   "metadata": {
    "deletable": false,
    "editable": false,
    "nbgrader": {
     "cell_type": "markdown",
     "checksum": "33141117a23a198fb20fef495e19b365",
     "grade": false,
     "grade_id": "cell-e309975d867b36ff",
     "locked": true,
     "schema_version": 3,
     "solution": false,
     "task": false
    }
   },
   "source": [
    "Alright? Here come the coding questions!"
   ]
  },
  {
   "cell_type": "markdown",
   "metadata": {
    "deletable": false,
    "editable": false,
    "nbgrader": {
     "cell_type": "markdown",
     "checksum": "2f1d9a976673d1c2b65fc4ec38d94cd6",
     "grade": false,
     "grade_id": "cell-cd23e7adeb16c4ee",
     "locked": true,
     "schema_version": 3,
     "solution": false,
     "task": false
    }
   },
   "source": [
    "### Exercise 1\n",
    "\n",
    "Write code that finds the product of these 4 variables (do not change them!). Assign the result to a **float** variable called `ex_1_result`."
   ]
  },
  {
   "cell_type": "code",
   "execution_count": 1,
   "metadata": {
    "deletable": false,
    "nbgrader": {
     "cell_type": "code",
     "checksum": "f539dce1f9aea7b054259842ce80daf1",
     "grade": false,
     "grade_id": "cell-6da7fa29a659afd3",
     "locked": false,
     "schema_version": 3,
     "solution": true,
     "task": false
    }
   },
   "outputs": [
    {
     "name": "stdout",
     "output_type": "stream",
     "text": [
      "1680.0\n"
     ]
    }
   ],
   "source": [
    "a = 5\n",
    "b = 6\n",
    "c = 7\n",
    "d = 8\n",
    "# Call the result variable ex_1_result\n",
    "# YOUR CODE HERE\n",
    "ex_1_result = float(a * b * c * d)\n",
    "print(ex_1_result)"
   ]
  },
  {
   "cell_type": "markdown",
   "metadata": {
    "deletable": false,
    "editable": false,
    "nbgrader": {
     "cell_type": "markdown",
     "checksum": "e6e4f278e68c3957547133cc41936422",
     "grade": false,
     "grade_id": "cell-d21a20a5e79b5266",
     "locked": true,
     "schema_version": 3,
     "solution": false,
     "task": false
    }
   },
   "source": [
    "### Exercise 2\n",
    "\n",
    "Write code that adds (concatenates) these three strings together. Do **not** change the values of the variables. Call the result `ex_2_result`."
   ]
  },
  {
   "cell_type": "code",
   "execution_count": 3,
   "metadata": {
    "deletable": false,
    "nbgrader": {
     "cell_type": "code",
     "checksum": "57915d1d14d0cdf09dc14696815960fd",
     "grade": false,
     "grade_id": "cell-b74d0ff90247b40b",
     "locked": false,
     "schema_version": 3,
     "solution": true,
     "task": false
    }
   },
   "outputs": [
    {
     "name": "stdout",
     "output_type": "stream",
     "text": [
      "DataSkills for All\n"
     ]
    }
   ],
   "source": [
    "string1 = \"Data\"\n",
    "string2 = \"Skills for\"\n",
    "string3 = \" All\"\n",
    "# Call the result variable ex_2_result\n",
    "# YOUR CODE HERE\n",
    "ex_2_result = string1 + string2 + string3\n",
    "print(ex_2_result)"
   ]
  },
  {
   "cell_type": "markdown",
   "metadata": {
    "deletable": false,
    "editable": false,
    "nbgrader": {
     "cell_type": "markdown",
     "checksum": "71fd711f976d2995f47088f856c2c864",
     "grade": false,
     "grade_id": "cell-e4342c8bdb5ec2df",
     "locked": true,
     "schema_version": 3,
     "solution": false,
     "task": false
    }
   },
   "source": [
    "### Exercise 3\n",
    "\n",
    "Write code that\n",
    "\n",
    "* takes the string variable `my_string`,\n",
    "* converts it to an integer,\n",
    "* then divides that integer by the length of the original string,\n",
    "* and outputs the result.\n",
    "\n",
    "For example, if the `my_string` variable were `\"567\"`, then the result should be the number `189`, because `567/3=189`. Make sure that the result is of type **integer** and is assigned to a variable called `ex_3_result`. "
   ]
  },
  {
   "cell_type": "code",
   "execution_count": 7,
   "metadata": {
    "deletable": false,
    "nbgrader": {
     "cell_type": "code",
     "checksum": "3d996af2a1bb19a6318ac6da99ac2596",
     "grade": false,
     "grade_id": "cell-466de4b7eb3a9f70",
     "locked": false,
     "schema_version": 3,
     "solution": true,
     "task": false
    }
   },
   "outputs": [
    {
     "name": "stdout",
     "output_type": "stream",
     "text": [
      "4523739\n"
     ]
    }
   ],
   "source": [
    "my_string = \"36189912\"\n",
    "# Call the result variable ex_3_result\n",
    "# YOUR CODE HERE\n",
    "my_string_integer = int(my_string)\n",
    "ex_3_result = int(my_string_integer / len(my_string))\n",
    "print(ex_3_result)"
   ]
  },
  {
   "cell_type": "markdown",
   "metadata": {
    "deletable": false,
    "editable": false,
    "nbgrader": {
     "cell_type": "markdown",
     "checksum": "240db28956e0bd4542110e186aabe180",
     "grade": false,
     "grade_id": "cell-901fcede6611476f",
     "locked": true,
     "schema_version": 3,
     "solution": false,
     "task": false
    }
   },
   "source": [
    "## Testing Cells\n",
    "\n",
    "Run the below cells to check your answers. Make sure you run your solution cells first before running the cells below, otherwise you will get a `NameError` when checking your answers."
   ]
  },
  {
   "cell_type": "code",
   "execution_count": 2,
   "metadata": {
    "deletable": false,
    "editable": false,
    "nbgrader": {
     "cell_type": "code",
     "checksum": "98010841ce95fb868495713a16925378",
     "grade": true,
     "grade_id": "cell-e3ff00e471bec774",
     "locked": true,
     "points": 1,
     "schema_version": 3,
     "solution": false,
     "task": false
    }
   },
   "outputs": [
    {
     "name": "stdout",
     "output_type": "stream",
     "text": [
      "Preliminary sanity check for Ex. 1 passed.\n",
      "Exercise 1 looks correct!\n"
     ]
    }
   ],
   "source": [
    "# Ex. 1\n",
    "assert \"ex_1_result\" in globals(), \"Ex. 1 - You haven't defined the ex_1_result variable!\"\n",
    "assert type(ex_1_result) == type(0.5), \"Ex. 1 - The ex_1_result variable is not a float! You can convert it with the float() function.\"\n",
    "print(\"Preliminary sanity check for Ex. 1 passed.\")\n",
    "assert ex_1_result == 1680.0, \"Ex. 1 - The result is wrong. It should be 1680.0 and it is \" + str(ex_1_result) + \" instead.\"\n",
    "print(\"Exercise 1 looks correct!\")"
   ]
  },
  {
   "cell_type": "code",
   "execution_count": 4,
   "metadata": {
    "deletable": false,
    "editable": false,
    "nbgrader": {
     "cell_type": "code",
     "checksum": "d0c4b455b4123606e59ad7db1ef1b8fe",
     "grade": true,
     "grade_id": "cell-c0480287df6d8dd5",
     "locked": true,
     "points": 1,
     "schema_version": 3,
     "solution": false,
     "task": false
    }
   },
   "outputs": [
    {
     "name": "stdout",
     "output_type": "stream",
     "text": [
      "Preliminary sanity check for Ex. 2 passed.\n",
      "Exercise 2 looks correct!\n"
     ]
    }
   ],
   "source": [
    "# Ex. 2\n",
    "assert \"ex_2_result\" in globals(), \"Ex. 2 - You haven't defined the ex_2_result variable!\"\n",
    "print(\"Preliminary sanity check for Ex. 2 passed.\")\n",
    "assert ex_2_result == 'DataSkills for All', \"Ex. 2 - The result is wrong. It should be 'DataSkills for All' and it is '\" + ex_2_result + \"' instead.\"\n",
    "print(\"Exercise 2 looks correct!\")"
   ]
  },
  {
   "cell_type": "code",
   "execution_count": 8,
   "metadata": {
    "deletable": false,
    "editable": false,
    "nbgrader": {
     "cell_type": "code",
     "checksum": "f1b2102b6cbcf9d512e4fa2c936d6e1a",
     "grade": true,
     "grade_id": "cell-bbb0af688a1c570a",
     "locked": true,
     "points": 1,
     "schema_version": 3,
     "solution": false,
     "task": false
    }
   },
   "outputs": [
    {
     "name": "stdout",
     "output_type": "stream",
     "text": [
      "Preliminary sanity check for Ex. 3 passed.\n",
      "Exercise 3 looks correct!\n"
     ]
    }
   ],
   "source": [
    "# Ex. 3\n",
    "assert \"ex_3_result\" in globals(), \"Ex. 3 - You haven't defined the ex_3_result variable!\"\n",
    "assert type(ex_3_result) == type(5), \"Ex. 3 - The ex_3_result variable is not an integer! You can convert it with the int() function.\"\n",
    "print(\"Preliminary sanity check for Ex. 3 passed.\")\n",
    "assert ex_3_result == 4523739, \"Ex. 3 - The result is wrong. It should be 4523739 and it is \" + str(ex_3_result) + \" instead.\"\n",
    "print(\"Exercise 3 looks correct!\")"
   ]
  }
 ],
 "metadata": {
  "c1_recart": "7.37.0-57c20131aabc1dc2a8c675852d80a7da",
  "kernelspec": {
   "display_name": "Python 3",
   "language": "python",
   "name": "python3"
  },
  "language_info": {
   "codemirror_mode": {
    "name": "ipython",
    "version": 3
   },
   "file_extension": ".py",
   "mimetype": "text/x-python",
   "name": "python",
   "nbconvert_exporter": "python",
   "pygments_lexer": "ipython3",
   "version": "3.8.8"
  }
 },
 "nbformat": 4,
 "nbformat_minor": 4
}
