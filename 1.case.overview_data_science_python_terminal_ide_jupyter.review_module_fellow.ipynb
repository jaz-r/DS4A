{
 "cells": [
  {
   "cell_type": "markdown",
   "id": "4a61a8cb",
   "metadata": {
    "deletable": false,
    "editable": false,
    "nbgrader": {
     "cell_type": "markdown",
     "checksum": "f36ba51edd0dd950e2ba8f9621e3fcc9",
     "grade": false,
     "grade_id": "cell-43ad9dbc15f6ee1c",
     "locked": true,
     "schema_version": 3,
     "solution": false,
     "task": false
    }
   },
   "source": [
    "# Review module"
   ]
  },
  {
   "cell_type": "markdown",
   "id": "bc891134",
   "metadata": {
    "deletable": false,
    "editable": false,
    "nbgrader": {
     "cell_type": "markdown",
     "checksum": "1130748b71842d4a860346267d0f8860",
     "grade": false,
     "grade_id": "cell-d82cb3096a8518c2",
     "locked": true,
     "schema_version": 3,
     "solution": false,
     "task": false
    }
   },
   "source": [
    "Throughout this foundational pre-program, you will complete several auto-graded review modules designed to test your understanding of the previous cases.\n",
    "\n",
    "**Instructions**\n",
    "\n",
    "For this review module, the exercises will require you to uncomment lines of code. In order to complete this part, we recommend you follow these instructions:\n",
    "\n",
    "1. Complete the code provided to you in this notebook, but do **not** change the name of the variables. If you do that, the autograder will fail and you will not receive any points.\n",
    "2. To check that your answers are correct, click on `Kernel > Restart & Run All`. If any of the cells in your notebook produces an error, that means you need to adjust your answers.\n",
    "\n",
    "Here are a couple of already-solved example questions:"
   ]
  },
  {
   "cell_type": "markdown",
   "id": "53eb40f1",
   "metadata": {
    "deletable": false,
    "editable": false,
    "nbgrader": {
     "cell_type": "markdown",
     "checksum": "433b27008025de5ae7a152baf062f730",
     "grade": false,
     "grade_id": "cell-627a3738ce1a6703",
     "locked": true,
     "schema_version": 3,
     "solution": false,
     "task": false
    }
   },
   "source": [
    "### Example 1\n",
    "\n",
    "What is the coolest animal in the world? (Remember, you need to uncomment the line that corresponds to the correct answer - you uncomment by removing the `#` symbol).\n",
    "\n",
    "* A. Wombat\n",
    "* B. Red panda.\n",
    "* C. Hyrax.\n",
    "* D. Meerkat."
   ]
  },
  {
   "cell_type": "code",
   "execution_count": null,
   "id": "061b1f80",
   "metadata": {
    "deletable": false,
    "editable": false,
    "nbgrader": {
     "cell_type": "code",
     "checksum": "6f6fee2d733b1bbe4a46c226cbf11bcc",
     "grade": false,
     "grade_id": "cell-b62ad6858d533e92",
     "locked": true,
     "schema_version": 3,
     "solution": false,
     "task": false
    }
   },
   "outputs": [],
   "source": [
    "#answer = \"A\"\n",
    "#answer = \"B\"\n",
    "#answer = \"C\"\n",
    "answer = \"D\""
   ]
  },
  {
   "cell_type": "markdown",
   "id": "1d667174",
   "metadata": {
    "deletable": false,
    "editable": false,
    "nbgrader": {
     "cell_type": "markdown",
     "checksum": "dbe6426d3f56aaa2fa6d9678e7211b03",
     "grade": false,
     "grade_id": "cell-c45b5856b685793b",
     "locked": true,
     "schema_version": 3,
     "solution": false,
     "task": false
    }
   },
   "source": [
    "### Example 2\n",
    "\n",
    "Why did the chicken cross the road? (Remember, you need to uncomment the line that corresponds to the correct answer - you uncomment by removing the `#` symbol).\n",
    "\n",
    "* A. To attend an astrophysics conference.\n",
    "* B. To chat with a cool meerkat.\n",
    "* C. To get to the other side.\n",
    "* D. To have its hair done."
   ]
  },
  {
   "cell_type": "code",
   "execution_count": null,
   "id": "fe9778dd",
   "metadata": {
    "deletable": false,
    "editable": false,
    "nbgrader": {
     "cell_type": "code",
     "checksum": "120fea2a7c0241ba27421af81c266907",
     "grade": false,
     "grade_id": "cell-449b9e0b2ec5c263",
     "locked": true,
     "schema_version": 3,
     "solution": false,
     "task": false
    }
   },
   "outputs": [],
   "source": [
    "#answer = \"A\"\n",
    "answer = \"B\"\n",
    "#answer = \"C\"\n",
    "#answer = \"D\""
   ]
  },
  {
   "cell_type": "markdown",
   "id": "b6fb6470",
   "metadata": {
    "deletable": false,
    "editable": false,
    "nbgrader": {
     "cell_type": "markdown",
     "checksum": "1c7471138afdb09f794b7555eb40124b",
     "grade": false,
     "grade_id": "cell-bf707dad9c94ebb3",
     "locked": true,
     "schema_version": 3,
     "solution": false,
     "task": false
    }
   },
   "source": [
    "In the questions below, you'll see a couple of lines that look like this:\n",
    "\n",
    "~~~python\n",
    "# YOUR CODE HERE\n",
    "raise NotImplementedError() # Remove this line when you enter your solution\n",
    "~~~\n",
    "\n",
    "These lines are there to help us keep track of which exercises have been answered and which haven't. For the exercises in this review module, you should simply remove them and proceed to uncommenting the lines just as we explained above."
   ]
  },
  {
   "cell_type": "markdown",
   "id": "ea89a80c",
   "metadata": {
    "deletable": false,
    "editable": false,
    "nbgrader": {
     "cell_type": "markdown",
     "checksum": "66189a139db7cc05043437d72dd4ca49",
     "grade": false,
     "grade_id": "cell-8223b04e63f90590",
     "locked": true,
     "schema_version": 3,
     "solution": false,
     "task": false
    }
   },
   "source": [
    "Alright? Here come the questions!"
   ]
  },
  {
   "cell_type": "markdown",
   "id": "8df92585",
   "metadata": {
    "deletable": false,
    "editable": false,
    "nbgrader": {
     "cell_type": "markdown",
     "checksum": "05a0fd532f1523d81a87bfea317fc9e0",
     "grade": false,
     "grade_id": "cell-02ef8633c00df18a",
     "locked": true,
     "schema_version": 3,
     "solution": false,
     "task": false
    }
   },
   "source": [
    "### Exercise 1\n",
    "\n",
    "In computer science, Python is a(n)...\n",
    "\n",
    "* A. IDE\n",
    "* B. function\n",
    "* C. programming language\n",
    "* D. type of snake"
   ]
  },
  {
   "cell_type": "code",
   "execution_count": 1,
   "id": "28197c7c",
   "metadata": {
    "deletable": false,
    "nbgrader": {
     "cell_type": "code",
     "checksum": "66870baabbcd3205371b56633384fc1d",
     "grade": false,
     "grade_id": "cell-19572b3e477e143f",
     "locked": false,
     "schema_version": 3,
     "solution": true,
     "task": false
    }
   },
   "outputs": [],
   "source": [
    "# YOUR CODE HERE\n",
    "\n",
    "#ex_1_answer = \"A\"\n",
    "#ex_1_answer = \"B\"\n",
    "ex_1_answer = \"C\"\n",
    "#ex_1_answer = \"D\""
   ]
  },
  {
   "cell_type": "markdown",
   "id": "7f515aaa",
   "metadata": {
    "deletable": false,
    "editable": false,
    "nbgrader": {
     "cell_type": "markdown",
     "checksum": "232a4c468fd2f890dc98a45e51fe5c86",
     "grade": false,
     "grade_id": "cell-c2413532ab547040",
     "locked": true,
     "schema_version": 3,
     "solution": false,
     "task": false
    }
   },
   "source": [
    "### Exercise 2\n",
    "\n",
    "The 3 disciplines necessary to become a great data professional are...\n",
    "\n",
    "* A. Machine Learning, AI, Data Science\n",
    "\n",
    "* B. Math & Statistics, Computer Science, Business Expertise\n",
    "\n",
    "* C. Math & Statistics, Computer Programming, Data Science\n",
    "\n",
    "* D. Math & Statistics, Python, Business Expertise"
   ]
  },
  {
   "cell_type": "code",
   "execution_count": 2,
   "id": "316d3b71",
   "metadata": {
    "deletable": false,
    "nbgrader": {
     "cell_type": "code",
     "checksum": "b38ff56219d99d6815437b2231bca89b",
     "grade": false,
     "grade_id": "cell-9f31b59057e28bc8",
     "locked": false,
     "schema_version": 3,
     "solution": true,
     "task": false
    }
   },
   "outputs": [],
   "source": [
    "# YOUR CODE HERE\n",
    "\n",
    "#ex_2_answer = \"A\"\n",
    "ex_2_answer = \"B\"\n",
    "#ex_2_answer = \"C\"\n",
    "#ex_2_answer = \"D\""
   ]
  },
  {
   "cell_type": "markdown",
   "id": "a8db1559",
   "metadata": {
    "deletable": false,
    "editable": false,
    "nbgrader": {
     "cell_type": "markdown",
     "checksum": "07cefa9df71373c73fc61cbacc3cf5cb",
     "grade": false,
     "grade_id": "cell-4aa8d0dda883b125",
     "locked": true,
     "schema_version": 3,
     "solution": false,
     "task": false
    }
   },
   "source": [
    "### Exercise 3\n",
    "\n",
    "The `cd` command lets you...\n",
    "\n",
    "* A. Rename folders\n",
    "* B. See the contents of a folder\n",
    "* C. Create a new folder\n",
    "* D. Navigate around your computer's folders"
   ]
  },
  {
   "cell_type": "code",
   "execution_count": 3,
   "id": "7269a16f",
   "metadata": {
    "deletable": false,
    "nbgrader": {
     "cell_type": "code",
     "checksum": "2d2dc11471e3bb3ce837de289464f1e6",
     "grade": false,
     "grade_id": "cell-b34688694bf03284",
     "locked": false,
     "schema_version": 3,
     "solution": true,
     "task": false
    }
   },
   "outputs": [],
   "source": [
    "# YOUR CODE HERE\n",
    "\n",
    "#ex_3_answer = \"A\"\n",
    "#ex_3_answer = \"B\"\n",
    "#ex_3_answer = \"C\"\n",
    "ex_3_answer = \"D\""
   ]
  },
  {
   "cell_type": "markdown",
   "id": "6db53513",
   "metadata": {
    "deletable": false,
    "editable": false,
    "nbgrader": {
     "cell_type": "markdown",
     "checksum": "2eaa18b0877243cfc43f6f3610b92ed1",
     "grade": false,
     "grade_id": "cell-2f44a40996dc05cb",
     "locked": true,
     "schema_version": 3,
     "solution": false,
     "task": false
    }
   },
   "source": [
    "### Exercise 4\n",
    "\n",
    "The `ls` command allows you to...\n",
    "\n",
    "* A. see the name of the current file\n",
    "* B. look into the contents of a file\n",
    "* C. see the contents of a folder\n",
    "* D. list the size of the current file"
   ]
  },
  {
   "cell_type": "code",
   "execution_count": 4,
   "id": "5b85ef00",
   "metadata": {
    "deletable": false,
    "nbgrader": {
     "cell_type": "code",
     "checksum": "5f96723dcac7f9684890bd10ae639234",
     "grade": false,
     "grade_id": "cell-a7ef3f10e0b79b90",
     "locked": false,
     "schema_version": 3,
     "solution": true,
     "task": false
    }
   },
   "outputs": [],
   "source": [
    "# YOUR CODE HERE\n",
    "\n",
    "#ex_4_answer = \"A\"\n",
    "#ex_4_answer = \"B\"\n",
    "ex_4_answer = \"C\"\n",
    "#ex_4_answer = \"D\""
   ]
  },
  {
   "cell_type": "markdown",
   "id": "efcfc2d1",
   "metadata": {
    "deletable": false,
    "editable": false,
    "nbgrader": {
     "cell_type": "markdown",
     "checksum": "240db28956e0bd4542110e186aabe180",
     "grade": false,
     "grade_id": "cell-901fcede6611476f",
     "locked": true,
     "schema_version": 3,
     "solution": false,
     "task": false
    }
   },
   "source": [
    "## Testing Cells\n",
    "\n",
    "Run the below cells to check your answers. Make sure you run your solution cells first before running the cells below, otherwise you will get a `NameError` when checking your answers."
   ]
  },
  {
   "cell_type": "code",
   "execution_count": 5,
   "id": "e18d6db3",
   "metadata": {
    "deletable": false,
    "editable": false,
    "nbgrader": {
     "cell_type": "code",
     "checksum": "f83e616d861dba64df6f140349f2b19b",
     "grade": true,
     "grade_id": "cell-dfce3810f2c638eb",
     "locked": true,
     "points": 1,
     "schema_version": 3,
     "solution": false,
     "task": false
    }
   },
   "outputs": [
    {
     "name": "stdout",
     "output_type": "stream",
     "text": [
      "Preliminary sanity check for Ex. 1 passed.\n",
      "Exercise 1 seems correct!\n"
     ]
    }
   ],
   "source": [
    "# Ex. 1\n",
    "assert \"ex_1_answer\" in globals(), \"Ex. 1 - You haven't defined the ex_1_answer variable!\"\n",
    "print(\"Preliminary sanity check for Ex. 1 passed.\")\n",
    "assert ord(ex_1_answer) == 67, \"Ex. 1 - Think again! Check the main case for a refresher!\"\n",
    "print(\"Exercise 1 seems correct!\")"
   ]
  },
  {
   "cell_type": "code",
   "execution_count": 6,
   "id": "946f9efc",
   "metadata": {
    "deletable": false,
    "editable": false,
    "nbgrader": {
     "cell_type": "code",
     "checksum": "4652df38b5e93cd4eb7535389984b3ca",
     "grade": true,
     "grade_id": "cell-f0e6846c9b920e1e",
     "locked": true,
     "points": 1,
     "schema_version": 3,
     "solution": false,
     "task": false
    }
   },
   "outputs": [
    {
     "name": "stdout",
     "output_type": "stream",
     "text": [
      "Preliminary sanity check for Ex. 2 passed.\n",
      "Exercise 2 seems correct!\n"
     ]
    }
   ],
   "source": [
    "# Ex. 2\n",
    "assert \"ex_2_answer\" in globals(), \"Ex. 2 - You haven't defined the ex_1_answer variable!\"\n",
    "print(\"Preliminary sanity check for Ex. 2 passed.\")\n",
    "assert ord(ex_2_answer) == 66, \"Ex. 2 - Think again! Check the main case for a refresher!\"\n",
    "print(\"Exercise 2 seems correct!\")"
   ]
  },
  {
   "cell_type": "code",
   "execution_count": 7,
   "id": "141d97d6",
   "metadata": {
    "deletable": false,
    "editable": false,
    "nbgrader": {
     "cell_type": "code",
     "checksum": "7e0a7d70d7d98ed64534d0ee322197ad",
     "grade": true,
     "grade_id": "cell-71380078e8854049",
     "locked": true,
     "points": 1,
     "schema_version": 3,
     "solution": false,
     "task": false
    }
   },
   "outputs": [
    {
     "name": "stdout",
     "output_type": "stream",
     "text": [
      "Preliminary sanity check for Ex. 3 passed.\n",
      "Exercise 3 seems correct!\n"
     ]
    }
   ],
   "source": [
    "# Ex. 3\n",
    "assert \"ex_3_answer\" in globals(), \"Ex. 3 - You haven't defined the ex_3_answer variable!\"\n",
    "print(\"Preliminary sanity check for Ex. 3 passed.\")\n",
    "assert ord(ex_3_answer) == 68, \"Ex. 3 - Think again! Check the main case for a refresher!\"\n",
    "print(\"Exercise 3 seems correct!\")"
   ]
  },
  {
   "cell_type": "code",
   "execution_count": 8,
   "id": "6cbc9f60",
   "metadata": {
    "deletable": false,
    "editable": false,
    "nbgrader": {
     "cell_type": "code",
     "checksum": "586905ae2eedbc2a3ce86db2fe50ec2e",
     "grade": true,
     "grade_id": "cell-1c9d233c0f481434",
     "locked": true,
     "points": 1,
     "schema_version": 3,
     "solution": false,
     "task": false
    }
   },
   "outputs": [
    {
     "name": "stdout",
     "output_type": "stream",
     "text": [
      "Preliminary sanity check for Ex. 4 passed.\n",
      "Exercise 4 seems correct!\n"
     ]
    }
   ],
   "source": [
    "# Ex. 4\n",
    "assert \"ex_4_answer\" in globals(), \"Ex. 4 - You haven't defined the ex_4_answer variable!\"\n",
    "print(\"Preliminary sanity check for Ex. 4 passed.\")\n",
    "assert ord(ex_4_answer) == 67, \"Ex. 4 - Think again! Check the main case for a refresher!\"\n",
    "print(\"Exercise 4 seems correct!\")"
   ]
  }
 ],
 "metadata": {
  "c1_recart": "7.37.0-57c20131aabc1dc2a8c675852d80a7da",
  "kernelspec": {
   "display_name": "Python 3",
   "language": "python",
   "name": "python3"
  },
  "language_info": {
   "codemirror_mode": {
    "name": "ipython",
    "version": 3
   },
   "file_extension": ".py",
   "mimetype": "text/x-python",
   "name": "python",
   "nbconvert_exporter": "python",
   "pygments_lexer": "ipython3",
   "version": "3.8.8"
  }
 },
 "nbformat": 4,
 "nbformat_minor": 5
}
